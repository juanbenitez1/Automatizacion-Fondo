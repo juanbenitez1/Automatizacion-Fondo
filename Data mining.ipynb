{
  "nbformat": 4,
  "nbformat_minor": 0,
  "metadata": {
    "colab": {
      "provenance": []
    },
    "kernelspec": {
      "name": "python3",
      "display_name": "Python 3"
    },
    "language_info": {
      "name": "python"
    }
  },
  "cells": [
    {
      "cell_type": "markdown",
      "source": [
        "# Paquetes"
      ],
      "metadata": {
        "id": "lBgin_Urge1z"
      }
    },
    {
      "cell_type": "code",
      "execution_count": null,
      "metadata": {
        "colab": {
          "base_uri": "https://localhost:8080/"
        },
        "id": "cHmV-fSNgdCD",
        "outputId": "4d8d96ad-2492-4f84-e6f5-eb002915719b"
      },
      "outputs": [
        {
          "output_type": "stream",
          "name": "stdout",
          "text": [
            "Looking in indexes: https://pypi.org/simple, https://us-python.pkg.dev/colab-wheels/public/simple/\n",
            "Requirement already satisfied: pdfplumber in /usr/local/lib/python3.9/dist-packages (0.9.0)\n",
            "Requirement already satisfied: pdfminer.six==20221105 in /usr/local/lib/python3.9/dist-packages (from pdfplumber) (20221105)\n",
            "Requirement already satisfied: Wand>=0.6.10 in /usr/local/lib/python3.9/dist-packages (from pdfplumber) (0.6.11)\n",
            "Requirement already satisfied: Pillow>=9.1 in /usr/local/lib/python3.9/dist-packages (from pdfplumber) (9.5.0)\n",
            "Requirement already satisfied: cryptography>=36.0.0 in /usr/local/lib/python3.9/dist-packages (from pdfminer.six==20221105->pdfplumber) (40.0.2)\n",
            "Requirement already satisfied: charset-normalizer>=2.0.0 in /usr/local/lib/python3.9/dist-packages (from pdfminer.six==20221105->pdfplumber) (2.0.12)\n",
            "Requirement already satisfied: cffi>=1.12 in /usr/local/lib/python3.9/dist-packages (from cryptography>=36.0.0->pdfminer.six==20221105->pdfplumber) (1.15.1)\n",
            "Requirement already satisfied: pycparser in /usr/local/lib/python3.9/dist-packages (from cffi>=1.12->cryptography>=36.0.0->pdfminer.six==20221105->pdfplumber) (2.21)\n"
          ]
        }
      ],
      "source": [
        "!pip install pdfplumber"
      ]
    },
    {
      "cell_type": "code",
      "source": [
        "import pdfplumber\n",
        "import os\n",
        "import pandas as pd\n",
        "import numpy as np"
      ],
      "metadata": {
        "id": "RbN9SdcsgjWk"
      },
      "execution_count": null,
      "outputs": []
    },
    {
      "cell_type": "code",
      "source": [
        "from google.colab import drive\n",
        "drive.mount('/content/drive')"
      ],
      "metadata": {
        "colab": {
          "base_uri": "https://localhost:8080/"
        },
        "id": "B6m-rT0XhbP0",
        "outputId": "5963a701-85ea-4466-c6fd-7c2219a9972c"
      },
      "execution_count": null,
      "outputs": [
        {
          "output_type": "stream",
          "name": "stdout",
          "text": [
            "Drive already mounted at /content/drive; to attempt to forcibly remount, call drive.mount(\"/content/drive\", force_remount=True).\n"
          ]
        }
      ]
    },
    {
      "cell_type": "markdown",
      "source": [
        "# Funciones"
      ],
      "metadata": {
        "id": "s65cIjAxglE9"
      }
    },
    {
      "cell_type": "markdown",
      "source": [
        "## Get Index"
      ],
      "metadata": {
        "id": "E3Dws1zygtC8"
      }
    },
    {
      "cell_type": "code",
      "source": [
        "from itertools import islice\n",
        "\n",
        "def get_index(iterable, value, n):\n",
        "    matches = (idx for idx, val in enumerate(iterable) if value in val)\n",
        "    return next(islice(matches, n-1, n), None)"
      ],
      "metadata": {
        "id": "dji6i3NpgmCj"
      },
      "execution_count": null,
      "outputs": []
    },
    {
      "cell_type": "markdown",
      "source": [
        "## Municipios"
      ],
      "metadata": {
        "id": "8BlO84iwguRn"
      }
    },
    {
      "cell_type": "code",
      "source": [
        "def municipios(info=None, info2=None, info3=None):\n",
        "    tipo = []\n",
        "    titular = []\n",
        "    cuit = []\n",
        "    condicion = []\n",
        "    programa = []\n",
        "    capital_fijo = []\n",
        "    capital_variable = []\n",
        "    nosis = []\n",
        "    fecha = []\n",
        "    ingresos_mensuales = []\n",
        "    cuota_promedio = []\n",
        "\n",
        "    # Tipo\n",
        "    tipo.append('Dictamen Tecnico Persona Juridica')\n",
        "\n",
        "    # Titular\n",
        "    titular1 = get_index(info, \"TITULAR\", 1)\n",
        "    ntango = get_index(info, \"N°\", 1)\n",
        "\n",
        "    titular_lista = []\n",
        "    for i in range(titular1+3, ntango):\n",
        "      titular_lista.append(info[i])\n",
        "\n",
        "    titular.append(' '.join(titular_lista))\n",
        "\n",
        "    # CUIT\n",
        "    cuit1 = get_index(info, \"CUIT\", 1)\n",
        "    cuit.append(info[cuit1+1])\n",
        "\n",
        "    # Condición\n",
        "    cond1 = get_index(info, \"Cond.\", 1)\n",
        "    if info[cuit1-1] == \"Resp.\": \n",
        "      condicion.append(\"Resp. Inscripto\")\n",
        "    else:\n",
        "      condicion.append(info[cond1+2])\n",
        "\n",
        "    # Programa\n",
        "    programa1 = get_index(info, 'ENCUADRE', 1)\n",
        "    programa2 = get_index(info, 'Monto', 1)\n",
        "    programa3 = get_index(info, 'Crédito', 1)\n",
        "    programa4 = get_index(info, 'Programa', 1)\n",
        "    programa5 = get_index(info, '%', 1)\n",
        "    programa6 = get_index(info, '%', 3)\n",
        "\n",
        "    prog_lista = []\n",
        "\n",
        "    for i in range(programa1+5, programa2):\n",
        "      prog_lista.append(info[i])\n",
        "\n",
        "    for i in range(programa3+3, programa4):\n",
        "      prog_lista.append(info[i])\n",
        "\n",
        "    for i in range(programa4+1, programa5):\n",
        "      prog_lista.append(info[i])\n",
        "\n",
        "    for i in range(programa6-2, programa6):\n",
        "      prog_lista.append(info[i])\n",
        "\n",
        "    programa.append(' '.join(prog_lista))\n",
        "\n",
        "    # Capital Fijo\n",
        "    capfijo1 = get_index(info, 'Capital', 1)\n",
        "    capital_fijo.append(info[capfijo1+2])\n",
        "\n",
        "    # Capital Variable\n",
        "    capvar1 = get_index(info, 'Capital', 2)\n",
        "    capital_variable.append(info[capvar1+3])\n",
        "\n",
        "    # Score Nosis\n",
        "    score1 = get_index(info, 'SCORE', 1)\n",
        "    nosis.append(info[score1+1])\n",
        "\n",
        "    # Fecha\n",
        "    fecha.append(info[-1])\n",
        "\n",
        "    # Ingresos Mensuales\n",
        "    ingresos1 = get_index(info, 'Total', 1)\n",
        "    ingresos_mensuales.append(info[ingresos1+4])\n",
        "\n",
        "    # Cuota Promedio\n",
        "    cuota1 = get_index(info, 'Promedio', 1)\n",
        "    cuota_promedio.append(info[cuota1+2])\n",
        "\n",
        "    return tipo, titular, cuit, condicion, programa, capital_fijo, capital_variable, nosis, fecha, ingresos_mensuales, cuota_promedio"
      ],
      "metadata": {
        "id": "G1-RoL0mgsIi"
      },
      "execution_count": null,
      "outputs": []
    },
    {
      "cell_type": "markdown",
      "source": [
        "## Particulares"
      ],
      "metadata": {
        "id": "nSEHqZtxgyVL"
      }
    },
    {
      "cell_type": "code",
      "source": [
        "def particulares(info=None, info2=None, info3=None):\n",
        "    titular = []\n",
        "    cuit = []\n",
        "    condicion = []\n",
        "    programa = []\n",
        "    capital_fijo = []\n",
        "    capital_variable = []\n",
        "    nosis = []\n",
        "    fecha = []\n",
        "    ingresos_mensuales = []\n",
        "    cuota_promedio = []\n",
        "    tipo = []\n",
        "\n",
        "    # Tipo\n",
        "    tipo.append('Dictamen Tecnico Persona Física')\n",
        "\n",
        "    # Titular\n",
        "    titular1 = get_index(info, \"TITULAR\", 1)\n",
        "    atm = get_index(info, \"ATM\", 1)\n",
        "\n",
        "    titular_lista = []\n",
        "    for i in range(titular1+3, atm-1):\n",
        "      titular_lista.append(info[i])\n",
        "\n",
        "    titular.append(' '.join(titular_lista))\n",
        "\n",
        "    # CUIT\n",
        "    cuit1 = get_index(info, \"CUIT\", 1)\n",
        "    cuit.append(info[cuit1+1])\n",
        "\n",
        "    # Condición\n",
        "    cond1 = get_index(info, \"AFIP\", 1)\n",
        "\n",
        "    if info[cond1+1] == \"Inscripto\" or \"Resp.\": \n",
        "      condicion.append(\"Resp. Inscripto\")\n",
        "    else:\n",
        "      condicion.append(info[cond1+1])\n",
        "\n",
        "    # Programa\n",
        "    find_value = False\n",
        "    try:\n",
        "      programa1 = get_index(info, 'DESTINO', 1)\n",
        "      programa2 = get_index(info, 'Programa', 1)\n",
        "      programa3 = get_index(info, 'crédito', 1)\n",
        "      programa4 = get_index(info, 'Línea', 1)\n",
        "\n",
        "      programa5 = []\n",
        "\n",
        "      for i in range(programa1+4, programa2-1):\n",
        "        programa5.append(info[i])\n",
        "\n",
        "      for i in range(programa3+3, programa4):\n",
        "        programa5.append(info[i])\n",
        "\n",
        "      programa5 = (' '.join(programa5))\n",
        "      if len(programa5) > 0:\n",
        "        programa.append(programa5)\n",
        "        find_value = True\n",
        "      else:\n",
        "        pass\n",
        "    except:\n",
        "      pass\n",
        "    \n",
        "    if find_value == False:\n",
        "      try:\n",
        "        programa1 = get_index(info, 'Programa', 1)\n",
        "        programa2 = get_index(info, 'Monto', 1)\n",
        "\n",
        "        programa3 = []\n",
        "\n",
        "        for i in range(programa1+1, programa2):\n",
        "          programa3.append(info[i])\n",
        "\n",
        "        programa3 = (' '.join(programa3))\n",
        "        if len(programa3) > 0:\n",
        "          programa.append(programa3)\n",
        "          find_value = True\n",
        "        else:\n",
        "          pass\n",
        "      except:\n",
        "        pass\n",
        "\n",
        "    if find_value == False:\n",
        "      programa1 = get_index(info, 'Programa', 1)\n",
        "\n",
        "      try:\n",
        "        if str(info[programa1+1]).upper() == 'MICROCRÉDITO':\n",
        "          programa.append(info[programa1+1])\n",
        "        else:\n",
        "          programa.append(np.nan)\n",
        "      except:\n",
        "        pass\n",
        "    else:\n",
        "      pass\n",
        "\n",
        "    # Capital Fijo\n",
        "    try:\n",
        "      capfijo1 = get_index(info, 'Activo', 1)\n",
        "      capital_fijo.append(info[capfijo1+3])\n",
        "    except:\n",
        "      capital_fijo.append(np.nan)\n",
        "\n",
        "    # Capital Variable\n",
        "    try:\n",
        "      capvar1 = get_index(info, 'Capital', 1)\n",
        "      if '%' in info[capvar1+4]:\n",
        "        capital_variable.append(info[capvar1+4])\n",
        "      else:\n",
        "        capvar1 = get_index(info, 'Capital', 2)\n",
        "        capital_variable.append(info[capvar1+4])\n",
        "    except:\n",
        "      capital_variable.append(np.nan)\n",
        "\n",
        "    # Score Nosis\n",
        "    try:\n",
        "      score1 = get_index(info2, 'SCORE', 1)\n",
        "      nosis.append(info2[score1+1])\n",
        "    except:\n",
        "      score1 = get_index(info, 'SCORE', 1)\n",
        "      nosis.append(info[score1+1])\n",
        "\n",
        "    # Fecha\n",
        "    fecha.append(info2[-1])\n",
        "\n",
        "    # Ingresos Mensuales\n",
        "    try:\n",
        "      ingresos1 = get_index(info2, 'TOTALES', 1)\n",
        "      ingresos_mensuales.append(info2[ingresos1+2])\n",
        "    except:\n",
        "      ingresos1 = get_index(info, 'TOTALES', 1)\n",
        "      ingresos_mensuales.append(info[ingresos1+2])\n",
        "\n",
        "    # Cuota Promedio\n",
        "    try:\n",
        "      cuota1 = get_index(info2, 'Cuota', 2)\n",
        "      cuota_promedio.append(info2[cuota1+3])\n",
        "    except:\n",
        "      cuota1 = get_index(info, 'Cuota', 2)\n",
        "      cuota_promedio.append(info[cuota1+3])\n",
        "\n",
        "    return tipo, titular, cuit, condicion, programa, capital_fijo, capital_variable, nosis, fecha, ingresos_mensuales, cuota_promedio"
      ],
      "metadata": {
        "id": "mCRYGNw3g1dK"
      },
      "execution_count": null,
      "outputs": []
    },
    {
      "cell_type": "markdown",
      "source": [
        "## Preincubación"
      ],
      "metadata": {
        "id": "OgXksXqDg13s"
      }
    },
    {
      "cell_type": "code",
      "source": [
        "def preincubacion(info=None, info2=None, info3=None):\n",
        "    titular = []\n",
        "    cuit = []\n",
        "    condicion = []\n",
        "    programa = []\n",
        "    capital_fijo = []\n",
        "    capital_variable = []\n",
        "    nosis = []\n",
        "    fecha = []\n",
        "    ingresos_mensuales = []\n",
        "    cuota_promedio = []\n",
        "    tipo = []\n",
        "\n",
        "    # Tipo\n",
        "    tipo.append('Pre-Incubacion')\n",
        "\n",
        "    # Titular\n",
        "    titular_lista = []\n",
        "    titular1 = get_index(info, \"TITULAR\", 1)\n",
        "    atm = get_index(info, \"ATM\", 1)\n",
        "    for i in range(titular1+3, atm-1):\n",
        "      titular_lista.append(info[i])\n",
        "\n",
        "    titular.append(' '.join(titular_lista))\n",
        "\n",
        "    # CUIT\n",
        "    cuit1 = get_index(info, \"CUIT\", 1)\n",
        "    cuit.append(info[cuit1+1])\n",
        "\n",
        "    # Condición\n",
        "    cond1 = get_index(info, \"AFIP\", 1)\n",
        "    if info[cond1+1] == \"Inscripto\": \n",
        "      condicion.append(\"Resp. Inscripto\")\n",
        "    else:\n",
        "      condicion.append(info[cond1+1])\n",
        "\n",
        "    # Programa\n",
        "    # programa1 = get_index(info, 'Programa', 1)\n",
        "    # programa.append(info[programa1+1])\n",
        "    programa.append('Preincubacion')\n",
        "\n",
        "    # Capital Fijo\n",
        "    capfijo1 = get_index(info, 'Activo', 1)\n",
        "    capital_fijo.append(info[capfijo1+3])\n",
        "\n",
        "    # Capital Variable\n",
        "    capvar1 = get_index(info, 'Capital', 1)\n",
        "    if '%' in info[capvar1+4]:\n",
        "      capital_variable.append(info[capvar1+4])\n",
        "    else:\n",
        "      capvar1 = get_index(info, 'Capital', 2)\n",
        "      capital_variable.append(info[capvar1+4])\n",
        "\n",
        "    # Score Nosis\n",
        "    try:\n",
        "      score1 = get_index(info2, 'SCORE', 1)\n",
        "      nosis.append(info2[score1+1])\n",
        "    except:\n",
        "      score1 = get_index(info, 'SCORE', 1)\n",
        "      nosis.append(info[score1+1])\n",
        "\n",
        "    # Fecha\n",
        "    fecha.append(info2[-1])\n",
        "\n",
        "    # Ingresos Mensuales\n",
        "    try:\n",
        "      ingresos1 = get_index(info2, 'TOTALES', 1)\n",
        "      ingresos_mensuales.append(info2[ingresos1+2])\n",
        "    except:\n",
        "      ingresos1 = get_index(info, 'TOTALES', 1)\n",
        "      ingresos_mensuales.append(info[ingresos1+2])\n",
        "\n",
        "    # Cuota Promedio\n",
        "    try:\n",
        "      cuota1 = get_index(info2, 'Cuota', 2)\n",
        "      cuota_promedio.append(info2[cuota1+3])\n",
        "    except:\n",
        "      cuota1 = get_index(info, 'Cuota', 2)\n",
        "      cuota_promedio.append(info[cuota1+3])\n",
        "    \n",
        "    return tipo, titular, cuit, condicion, programa, capital_fijo, capital_variable, nosis, fecha, ingresos_mensuales, cuota_promedio"
      ],
      "metadata": {
        "id": "GvTnE70hgx9Z"
      },
      "execution_count": null,
      "outputs": []
    },
    {
      "cell_type": "markdown",
      "source": [
        "## Recrédito"
      ],
      "metadata": {
        "id": "8qEYkXVJg6c4"
      }
    },
    {
      "cell_type": "code",
      "source": [
        "def recredito(info=None, info2=None, info3=None): \n",
        "    titular = []\n",
        "    cuit = []\n",
        "    condicion = []\n",
        "    programa = []\n",
        "    capital_fijo = []\n",
        "    capital_variable = []\n",
        "    nosis = []\n",
        "    fecha = []\n",
        "    ingresos_mensuales = []\n",
        "    cuota_promedio = []\n",
        "    tipo = []\n",
        "\n",
        "    # Tipo\n",
        "    tipo.append('Re-Crédito')\n",
        "\n",
        "    # Titular\n",
        "    titular1 = get_index(info, \"PROYECTO\", 1)\n",
        "    titular2 = get_index(info, \"Nro\", 1)\n",
        "\n",
        "    titular_lista = []\n",
        "    for i in range(titular1+1, titular2):\n",
        "      titular_lista.append(info[i])\n",
        "\n",
        "    titular.append(' '.join(titular_lista))\n",
        "\n",
        "    # CUIT\n",
        "    cuit1 = get_index(info, \"CUIT\", 1)\n",
        "    cuit.append(info[cuit1+1])\n",
        "\n",
        "    # Condición\n",
        "    cond1 = get_index(info, \"AFIP\", 1)\n",
        "\n",
        "    if info[cond1+1] == \"Inscripto\" or \"Resp.\": \n",
        "      condicion.append(\"Resp. Inscripto\")\n",
        "    else:\n",
        "      condicion.append(info[cond1+1])\n",
        "\n",
        "    # Programa\n",
        "    programa1 = get_index(info, 'Programa', 1)\n",
        "    programa.append('Re-Crédito')\n",
        "\n",
        "    # Capital Fijo\n",
        "    capfijo1 = get_index(info, 'Activo', 1)\n",
        "    capital_fijo.append(info[capfijo1+2])\n",
        "\n",
        "    # Capital Variable\n",
        "    capvar1 = get_index(info, 'Capital', 1)\n",
        "    if '%' in info[capvar1+6]:\n",
        "      capital_variable.append(info[capvar1+6])\n",
        "    else:\n",
        "      capital_variable.append(info[capvar1+3])\n",
        "\n",
        "    # Score Nosis\n",
        "    found_info = False\n",
        "    try:\n",
        "      score1 = get_index(info2, 'SCORE', 1)\n",
        "      nosis.append(info2[score1+1])\n",
        "      found_info = True\n",
        "    except:\n",
        "      pass\n",
        "\n",
        "    if not found_info:\n",
        "      try:\n",
        "        score1 = get_index(info3, 'SCORE', 1)\n",
        "        nosis.append(info3[score1+1])\n",
        "      except:\n",
        "        score1 = get_index(info, 'SCORE', 1)\n",
        "        nosis.append(info[score1+1])\n",
        "\n",
        "    # Fecha\n",
        "    fecha.append(info2[-1])\n",
        "\n",
        "    # Ingresos Mensuales\n",
        "    found_info = False\n",
        "    try:\n",
        "      ingresos1 = get_index(info2, 'SCORE', 1)\n",
        "      ingresos_mensuales.append(info2[ingresos1-2])\n",
        "      found_info = True\n",
        "    except:\n",
        "      pass\n",
        "\n",
        "    if not found_info:\n",
        "      try:\n",
        "        ingresos1 = get_index(info3, 'SCORE', 1)\n",
        "        ingresos_mensuales.append(info3[ingresos1-2])\n",
        "      except:\n",
        "        ingresos1 = get_index(info, 'SCORE', 1)\n",
        "        ingresos_mensuales.append(info[ingresos1-2])\n",
        "\n",
        "    # Cuota Promedio\n",
        "    found_info = False\n",
        "    try:\n",
        "      cuota1 = get_index(info2, 'Cuota', 2)\n",
        "      cuota_promedio.append(info2[cuota1+3])\n",
        "      found_info = True\n",
        "    except:\n",
        "      pass\n",
        "    \n",
        "    if not found_info:\n",
        "      try:\n",
        "        cuota1 = get_index(info3, 'Cuota', 2)\n",
        "        cuota_promedio.append(info3[cuota1+3])\n",
        "      except:\n",
        "        cuota1 = get_index(info, 'Cuota', 2)\n",
        "        cuota_promedio.append(info[cuota1+3])\n",
        "    \n",
        "    return tipo, titular, cuit, condicion, programa, capital_fijo, capital_variable, nosis, fecha, ingresos_mensuales, cuota_promedio"
      ],
      "metadata": {
        "id": "3Rb5O6HZg6Cj"
      },
      "execution_count": null,
      "outputs": []
    },
    {
      "cell_type": "markdown",
      "source": [
        "## Extracción"
      ],
      "metadata": {
        "id": "vS4X3qKqhED4"
      }
    },
    {
      "cell_type": "code",
      "source": [
        "def extraer(pdf_path):\n",
        "  titular = []\n",
        "  cuit = []\n",
        "  condicion = []\n",
        "  programa = []\n",
        "  capital_fijo = []\n",
        "  capital_variable = []\n",
        "  nosis = []\n",
        "  fecha = []\n",
        "  ingresos_mensuales = []\n",
        "  cuota_promedio = []\n",
        "  tipo = []\n",
        "\n",
        "  files = [f for f in os.listdir(pdf_path) if f.endswith(\".pdf\")]\n",
        "  path = pdf_path\n",
        "\n",
        "  for file in files:\n",
        "    filepath = str(pdf_path)+file\n",
        "    with pdfplumber.open(filepath) as pdf:\n",
        "      first_page = pdf.pages[0]\n",
        "      page_text = first_page.extract_text()\n",
        "\n",
        "      page_text1 = page_text.replace('\\n',' ').split(' ')\n",
        "      info = []\n",
        "      for i in page_text1:\n",
        "        if i != '':\n",
        "          info.append(i)\n",
        "\n",
        "      try:\n",
        "        second_page = pdf.pages[1]\n",
        "        page_text = second_page.extract_text()\n",
        "\n",
        "        page_text2 = page_text.replace('\\n',' ').split(' ')\n",
        "        info2 = []\n",
        "        for i in page_text2:\n",
        "          if i != '':\n",
        "            info2.append(i)\n",
        "      except:\n",
        "        pass\n",
        "\n",
        "      try:\n",
        "        third_page = pdf.pages[2]\n",
        "        page_text = third_page.extract_text()\n",
        "\n",
        "        page_text3 = page_text.replace('\\n',' ').split(' ')\n",
        "        info3 = []\n",
        "        for i in page_text3:\n",
        "          if i != '':\n",
        "            info3.append(i)\n",
        "      except:\n",
        "        pass\n",
        "      \n",
        "      if info[1] == 'PRE-INCUBACIÓN':\n",
        "        tipo_temp, titular_temp, cuit_temp, condicion_temp, programa_temp, capital_fijo_temp, capital_variable_temp, nosis_temp, fecha_temp, ingresos_mensuales_temp, cuota_promedio_temp = preincubacion(info, info2)\n",
        "      elif info[2] == 'RE-CRÉDITO':\n",
        "        tipo_temp, titular_temp, cuit_temp, condicion_temp, programa_temp, capital_fijo_temp, capital_variable_temp, nosis_temp, fecha_temp, ingresos_mensuales_temp, cuota_promedio_temp = recredito(info, info2, info3)\n",
        "      elif info[3] == 'MUNICIPIO':\n",
        "        tipo_temp, titular_temp, cuit_temp, condicion_temp, programa_temp, capital_fijo_temp, capital_variable_temp, nosis_temp, fecha_temp, ingresos_mensuales_temp, cuota_promedio_temp = municipios(info)\n",
        "      else:\n",
        "        tipo_temp, titular_temp, cuit_temp, condicion_temp, programa_temp, capital_fijo_temp, capital_variable_temp, nosis_temp, fecha_temp, ingresos_mensuales_temp, cuota_promedio_temp = particulares(info, info2)\n",
        "\n",
        "    tipo.extend(tipo_temp)\n",
        "    titular.extend(titular_temp)\n",
        "    cuit.extend(cuit_temp)\n",
        "    condicion.extend(condicion_temp)\n",
        "    programa.extend(programa_temp)\n",
        "    capital_fijo.extend(capital_fijo_temp)\n",
        "    capital_variable.extend(capital_variable_temp)\n",
        "    nosis.extend(nosis_temp)\n",
        "    fecha.extend(fecha_temp)\n",
        "    ingresos_mensuales.extend(ingresos_mensuales_temp)\n",
        "    cuota_promedio.extend(cuota_promedio_temp)\n",
        "\n",
        "  df = pd.DataFrame({'Fecha':fecha,\n",
        "                     'Tipo':[i.upper() for i in tipo],\n",
        "                    'Titular':[i.upper() for i in titular],\n",
        "                    'CUIT':cuit,\n",
        "                    'Condicion':[i.upper() for i in condicion],\n",
        "                    'Programa':[i.upper() for i in programa],\n",
        "                    'Capital Fijo':capital_fijo,\n",
        "                    'Capital Variable':capital_variable,\n",
        "                    'Score Nosis':nosis,\n",
        "                    'Ingresos Mensuales':ingresos_mensuales,\n",
        "                    'Cuota Promedio':cuota_promedio\n",
        "                      })\n",
        "\n",
        "  return df"
      ],
      "metadata": {
        "id": "hJMkPP9ahGUg"
      },
      "execution_count": null,
      "outputs": []
    },
    {
      "cell_type": "markdown",
      "source": [
        "# Ejecución y guardado"
      ],
      "metadata": {
        "id": "_5oJINVDhNH8"
      }
    },
    {
      "cell_type": "code",
      "source": [
        "df = extraer('/content/drive/MyDrive/Fondo Credito/')"
      ],
      "metadata": {
        "id": "gvx_FW3yhOm8"
      },
      "execution_count": null,
      "outputs": []
    },
    {
      "cell_type": "code",
      "source": [
        "df['Condicion'] = df['Condicion'].replace('NO','NO INSCRIPTO')\n",
        "df"
      ],
      "metadata": {
        "id": "V7rn0mVTiGQA"
      },
      "execution_count": null,
      "outputs": []
    },
    {
      "cell_type": "code",
      "source": [
        "df.to_excel('/content/drive/MyDrive/Fondo Credito/Output.xlsx', index=False)"
      ],
      "metadata": {
        "id": "6Z9OA2sDhXgz"
      },
      "execution_count": null,
      "outputs": []
    }
  ]
}